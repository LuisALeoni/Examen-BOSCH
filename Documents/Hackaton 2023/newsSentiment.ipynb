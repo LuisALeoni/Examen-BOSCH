{
 "cells": [
  {
   "cell_type": "code",
   "execution_count": 1,
   "id": "aca2554d-bfb3-4861-adcb-5ebf23d592f9",
   "metadata": {
    "tags": [],
    "vscode": {
     "languageId": "powershell"
    }
   },
   "outputs": [],
   "source": [
    "import newspaper\n",
    "from newspaper import Article\n",
    "from newspaper import fulltext\n",
    "from newspaper import Article\n",
    "from textblob import TextBlob"
   ]
  },
  {
   "cell_type": "code",
   "execution_count": 2,
   "id": "92b48b39-ce74-4ed4-b8f8-72ab7fb307db",
   "metadata": {
    "tags": [],
    "vscode": {
     "languageId": "powershell"
    }
   },
   "outputs": [],
   "source": [
    "import nltk"
   ]
  },
  {
   "cell_type": "code",
   "execution_count": 3,
   "id": "4a9e853b-6ae2-4505-a9f8-b2527ccd219e",
   "metadata": {
    "tags": [],
    "vscode": {
     "languageId": "powershell"
    }
   },
   "outputs": [
    {
     "name": "stderr",
     "output_type": "stream",
     "text": [
      "[nltk_data] Downloading package punkt to\n",
      "[nltk_data]     C:\\Users\\L2001\\AppData\\Roaming\\nltk_data...\n",
      "[nltk_data]   Package punkt is already up-to-date!\n"
     ]
    },
    {
     "data": {
      "text/plain": [
       "True"
      ]
     },
     "execution_count": 3,
     "metadata": {},
     "output_type": "execute_result"
    }
   ],
   "source": [
    "nltk.download('punkt')"
   ]
  },
  {
   "cell_type": "code",
   "execution_count": 4,
   "id": "a8f397eb-722a-4b55-9310-d2675e718d44",
   "metadata": {
    "tags": [],
    "vscode": {
     "languageId": "powershell"
    }
   },
   "outputs": [
    {
     "name": "stderr",
     "output_type": "stream",
     "text": [
      "C:\\Users\\L2001\\AppData\\Local\\Temp\\ipykernel_25924\\3630809014.py:13: RuntimeWarning: coroutine 'HTML.arender' was never awaited\n",
      "  r.html.arender(sleep=1, scrolldown=2)\n",
      "RuntimeWarning: Enable tracemalloc to get the object allocation traceback\n"
     ]
    }
   ],
   "source": [
    "#import what we need\n",
    "from requests_html import HTMLSession\n",
    "session = HTMLSession()\n",
    "\n",
    "#use session to get the page\n",
    "\n",
    "query = 'samuel garcia'\n",
    "query = query.replace(\" \", \"%20\")\n",
    "\n",
    "\n",
    "r = session.get(f'https://news.google.com/search?q={query}&hl=es-419&gl=MX')\n",
    "\n",
    "r.html.arender(sleep=1, scrolldown=2)\n",
    "\n",
    "#find all the articles by using inspect element and create blank list\n",
    "articles = r.html.find('article')\n",
    "newslist = []\n",
    "\n",
    "#loop through each article to find the title and link. try and except as repeated articles from other sources have different h tags.\n",
    "for item in articles:\n",
    "    try:\n",
    "        newsitem = item.find('h3', first=True)\n",
    "        title = newsitem.text\n",
    "        link = newsitem.absolute_links\n",
    "        newsarticle = {\n",
    "            'title': title,\n",
    "            'link': link \n",
    "        }\n",
    "        newslist.append(newsarticle)\n",
    "    except:\n",
    "        pass\n",
    "\n",
    "\n",
    "\n",
    "\n"
   ]
  },
  {
   "cell_type": "code",
   "execution_count": 5,
   "id": "84499c04-036c-41ba-b03d-c6f0bf32d064",
   "metadata": {
    "tags": [],
    "vscode": {
     "languageId": "powershell"
    }
   },
   "outputs": [],
   "source": [
    "\n",
    "news_dict = newslist[60]['link']#-----> ejemplo claro de algo negativo 60\n",
    "# transformacion de set a diccionario \n",
    "news_dict = list(news_dict)\n",
    "news_dict = news_dict[0]"
   ]
  },
  {
   "cell_type": "code",
   "execution_count": 6,
   "id": "d70a07b2-8d86-46fc-b9b7-bd1527db71c7",
   "metadata": {
    "tags": [],
    "vscode": {
     "languageId": "powershell"
    }
   },
   "outputs": [],
   "source": [
    "from newspaper import Article\n",
    "\n",
    "url = news_dict#'http://fox13now.com/2013/12/30/new-year-new-laws-obamacare-pot-guns-and-drones/'\n",
    "article = Article(url)\n",
    "article.download()"
   ]
  },
  {
   "cell_type": "code",
   "execution_count": 7,
   "id": "bb546b52-4431-4754-be28-928062bf3102",
   "metadata": {
    "tags": [],
    "vscode": {
     "languageId": "powershell"
    }
   },
   "outputs": [
    {
     "data": {
      "text/plain": [
       "'https://verificado.com.mx/los-otros-datos-samuel-garcia-2-informe-gobierno/'"
      ]
     },
     "execution_count": 7,
     "metadata": {},
     "output_type": "execute_result"
    }
   ],
   "source": [
    "# transforacion del obejeto \n",
    "article.parse()\n",
    "# texto del articulo\n",
    "article.text\n",
    "# link de google news\n",
    "article.url\n",
    "# autores\n",
    "article.authors\n",
    "# link real, no de google\n",
    "article.canonical_link"
   ]
  },
  {
   "cell_type": "code",
   "execution_count": 8,
   "id": "9de1a171-a3de-4f36-bc88-ff1c46fd9303",
   "metadata": {
    "tags": [],
    "vscode": {
     "languageId": "powershell"
    }
   },
   "outputs": [
    {
     "data": {
      "text/plain": [
       "defaultdict(dict,\n",
       "            {'viewport': 'width=device-width, initial-scale=1.0',\n",
       "             'description': 'Verificamos la veracidad de los temas más relevantes compartimos por Samuel García en la presentación de su 2° informe de gobierno',\n",
       "             'robots': 'follow, index, max-snippet:-1, max-video-preview:-1, max-image-preview:large',\n",
       "             'og': {'locale': 'es_ES',\n",
       "              'type': 'article',\n",
       "              'title': 'Los otros datos de Samuel García: 2° informe de gobierno',\n",
       "              'description': 'Verificamos la veracidad de los temas más relevantes compartimos por Samuel García en la presentación de su 2° informe de gobierno',\n",
       "              'url': 'https://verificado.com.mx/los-otros-datos-samuel-garcia-2-informe-gobierno/',\n",
       "              'site_name': 'Verificado',\n",
       "              'updated_time': '2023-11-06T12:54:36-06:00',\n",
       "              'image': {'identifier': 'https://i0.wp.com/verificado.com.mx/wp-content/uploads/2023/11/¿-2.png',\n",
       "               'secure_url': 'https://i0.wp.com/verificado.com.mx/wp-content/uploads/2023/11/¿-2.png',\n",
       "               'width': 1280,\n",
       "               'height': 853,\n",
       "               'alt': 'samuel garcia dio su segundo informe de gobierno con el slogan de \"imparable\" pero con datos imprecisos y engañosos',\n",
       "               'type': 'image/png'}},\n",
       "             'article': {'publisher': 'https://www.facebook.com/VerificadoMX/',\n",
       "              'author': 'https://www.facebook.com/VerificadoMX',\n",
       "              'tag': 'Samuel García',\n",
       "              'section': 'Verificado',\n",
       "              'published_time': '2023-11-03T21:04:06-06:00',\n",
       "              'modified_time': '2023-11-06T12:54:36-06:00'},\n",
       "             'twitter': {'card': 'summary_large_image',\n",
       "              'title': 'Los otros datos de Samuel García: 2° informe de gobierno',\n",
       "              'description': 'Verificamos la veracidad de los temas más relevantes compartimos por Samuel García en la presentación de su 2° informe de gobierno',\n",
       "              'site': '@verificado_mx',\n",
       "              'creator': '@verificado_mx',\n",
       "              'image': 'https://i0.wp.com/verificado.com.mx/wp-content/uploads/2023/11/¿-2.png',\n",
       "              'label1': 'Escrito por',\n",
       "              'data1': 'Melina Barbosa',\n",
       "              'label2': 'Tiempo de lectura',\n",
       "              'data2': '7 minutos'},\n",
       "             'generator': 'Site Kit by Google 1.99.0',\n",
       "             'google-adsense-platform-account': 'ca-host-pub-2644536267352236',\n",
       "             'google-adsense-platform-domain': 'sitekit.withgoogle.com',\n",
       "             'onesignal': 'wordpress-plugin',\n",
       "             'msapplication-TileImage': 'https://i0.wp.com/verificado.com.mx/wp-content/uploads/2017/07/cropped-favicon.jpg?fit=270%2C270&ssl=1'})"
      ]
     },
     "execution_count": 8,
     "metadata": {},
     "output_type": "execute_result"
    }
   ],
   "source": [
    "article.meta_data"
   ]
  },
  {
   "cell_type": "code",
   "execution_count": 9,
   "id": "5dde5b9f-ea27-473c-91e9-83b0f0d166ba",
   "metadata": {
    "tags": [],
    "vscode": {
     "languageId": "powershell"
    }
   },
   "outputs": [
    {
     "data": {
      "text/plain": [
       "'Verificamos la veracidad de los temas más relevantes compartimos por Samuel García en la presentación de su 2° informe de gobierno'"
      ]
     },
     "execution_count": 9,
     "metadata": {},
     "output_type": "execute_result"
    }
   ],
   "source": [
    "article.meta_description"
   ]
  },
  {
   "cell_type": "code",
   "execution_count": 10,
   "id": "263f9d75-afd3-4369-ab80-7d55170b5ea4",
   "metadata": {
    "tags": [],
    "vscode": {
     "languageId": "powershell"
    }
   },
   "outputs": [
    {
     "data": {
      "text/plain": [
       "'https://i0.wp.com/verificado.com.mx/wp-content/uploads/2023/11/¿-2.png'"
      ]
     },
     "execution_count": 10,
     "metadata": {},
     "output_type": "execute_result"
    }
   ],
   "source": [
    "article.meta_img\n"
   ]
  },
  {
   "cell_type": "code",
   "execution_count": 11,
   "id": "3100e7e2-fd3b-444b-94ba-3b9db423b741",
   "metadata": {
    "tags": [],
    "vscode": {
     "languageId": "powershell"
    }
   },
   "outputs": [
    {
     "data": {
      "text/plain": [
       "'Los otros datos de Samuel García: 2° informe de gobierno'"
      ]
     },
     "execution_count": 11,
     "metadata": {},
     "output_type": "execute_result"
    }
   ],
   "source": [
    "article.title"
   ]
  },
  {
   "cell_type": "code",
   "execution_count": 12,
   "id": "9b252b62-2a00-403e-9d79-c135806e9ad2",
   "metadata": {
    "tags": [],
    "vscode": {
     "languageId": "powershell"
    }
   },
   "outputs": [],
   "source": [
    "from transformers import pipeline"
   ]
  },
  {
   "cell_type": "code",
   "execution_count": 13,
   "id": "d6ff92f0-b443-494d-985f-04936d327164",
   "metadata": {
    "tags": [],
    "vscode": {
     "languageId": "powershell"
    }
   },
   "outputs": [
    {
     "name": "stderr",
     "output_type": "stream",
     "text": [
      "All model checkpoint layers were used when initializing TFBertForSequenceClassification.\n",
      "\n",
      "All the layers of TFBertForSequenceClassification were initialized from the model checkpoint at nlptown/bert-base-multilingual-uncased-sentiment.\n",
      "If your task is similar to the task the model of the checkpoint was trained on, you can already use TFBertForSequenceClassification for predictions without further training.\n"
     ]
    }
   ],
   "source": [
    "classifier = pipeline('sentiment-analysis', \n",
    "                      model=\"nlptown/bert-base-multilingual-uncased-sentiment\")\n"
   ]
  },
  {
   "cell_type": "code",
   "execution_count": 14,
   "id": "2c7dd00a-cbdf-49a9-bc52-22f024e042bc",
   "metadata": {
    "tags": [],
    "vscode": {
     "languageId": "powershell"
    }
   },
   "outputs": [],
   "source": [
    "results = classifier(article.meta_description)#article.text[:510])"
   ]
  },
  {
   "cell_type": "code",
   "execution_count": 15,
   "id": "abea502a-44fe-4e01-9d8f-57536637950f",
   "metadata": {
    "tags": [],
    "vscode": {
     "languageId": "powershell"
    }
   },
   "outputs": [
    {
     "name": "stdout",
     "output_type": "stream",
     "text": [
      "polaridad: 4 stars, score: 0.3386\n"
     ]
    }
   ],
   "source": [
    "#1 negativo\n",
    "#5 positivo \n",
    "for result in results:\n",
    "    print(f\"polaridad: {result['label']}, score: {round(result['score'], 4)}\")"
   ]
  },
  {
   "cell_type": "markdown",
   "id": "9d465f43-abd3-4970-803d-358a01c8c27a",
   "metadata": {},
   "source": [
    "****\n",
    "### Funciones para implentacion del api\n",
    "****"
   ]
  },
  {
   "cell_type": "code",
   "execution_count": 16,
   "id": "0dc69bb1-ddbb-4987-a939-bbaf831952b7",
   "metadata": {
    "tags": [],
    "vscode": {
     "languageId": "powershell"
    }
   },
   "outputs": [],
   "source": [
    "# Busqueda en google\n",
    "# ingresa un termino de busqueda y regresa un set \n",
    "def googleSearchNews(query):\n",
    "    \n",
    "    session = HTMLSession()\n",
    "    #query = 'samuel garcia'\n",
    "    query = query.replace(\" \", \"%20\")\n",
    "\n",
    "\n",
    "    r = session.get(f'https://news.google.com/search?q={query}&hl=es-419&gl=MX')\n",
    "\n",
    "    r.html.arender(sleep=1, scrolldown=2)\n",
    "\n",
    "    #find all the articles by using inspect element and create blank list\n",
    "    articles = r.html.find('article')\n",
    "    newslist = []\n",
    "\n",
    "    #loop through each article to find the title and link. try and except as repeated articles from other sources have different h tags.\n",
    "    for item in articles:\n",
    "        try:\n",
    "            newsitem = item.find('h3', first=True)\n",
    "            title = newsitem.text\n",
    "            link = newsitem.absolute_links\n",
    "            newsarticle = {\n",
    "                'title': title,\n",
    "                'link': link \n",
    "            }\n",
    "            newslist.append(newsarticle)\n",
    "        except:\n",
    "            pass\n",
    "    return newslist"
   ]
  },
  {
   "cell_type": "code",
   "execution_count": 17,
   "id": "79ff3edc-d602-43ed-ad75-ca475f60b1e8",
   "metadata": {
    "collapsed": true,
    "jupyter": {
     "outputs_hidden": true
    },
    "tags": [],
    "vscode": {
     "languageId": "powershell"
    }
   },
   "outputs": [
    {
     "name": "stderr",
     "output_type": "stream",
     "text": [
      "C:\\Users\\L2001\\AppData\\Local\\Temp\\ipykernel_25924\\1137156138.py:12: RuntimeWarning: coroutine 'HTML.arender' was never awaited\n",
      "  r.html.arender(sleep=1, scrolldown=2)\n",
      "RuntimeWarning: Enable tracemalloc to get the object allocation traceback\n"
     ]
    }
   ],
   "source": [
    "query = 'samuel garcia'\n",
    "result = googleSearchNews(query)\n"
   ]
  },
  {
   "cell_type": "code",
   "execution_count": 18,
   "id": "fc63ace0-4d9e-4853-b039-49a75533edaa",
   "metadata": {
    "tags": [],
    "vscode": {
     "languageId": "powershell"
    }
   },
   "outputs": [
    {
     "name": "stdout",
     "output_type": "stream",
     "text": [
      "{'title': 'Xóchitl Gálvez acusa a Samuel García de desviar recursos e incumplir su palabra', 'link': {'https://news.google.com/articles/CBMihgFodHRwczovL3d3dy5wcm9jZXNvLmNvbS5teC9uYWNpb25hbC8yMDIzLzExLzExL3hvY2hpdGwtZ2FsdmV6LWFjdXNhLXNhbXVlbC1nYXJjaWEtZGUtZGVzdmlhci1yZWN1cnNvcy1pbmN1bXBsaXItc3UtcGFsYWJyYS0zMTgzNDcuaHRtbNIBhgFodHRwczovL3d3dy5wcm9jZXNvLmNvbS5teC9uYWNpb25hbC8yMDIzLzExLzExL3hvY2hpdGwtZ2FsdmV6LWFjdXNhLXNhbXVlbC1nYXJjaWEtZGUtZGVzdmlhci1yZWN1cnNvcy1pbmN1bXBsaXItc3UtcGFsYWJyYS0zMTgzNDcuaHRtbA?hl=es-419&gl=MX&ceid=MX%3Aes-419'}}\n"
     ]
    }
   ],
   "source": [
    "print(result[0])"
   ]
  },
  {
   "cell_type": "code",
   "execution_count": 19,
   "id": "39bc6b30-2496-490f-8a9d-35d504a6954a",
   "metadata": {
    "tags": [],
    "vscode": {
     "languageId": "powershell"
    }
   },
   "outputs": [],
   "source": [
    "# transformacion de set a lista/array y obtencion de links\n",
    "def getLinks(result):\n",
    "    listResultsLinks = []\n",
    "    for r in result:\n",
    "        try:\n",
    "            news_dict = r['link']#-----> ejemplo claro de algo negativo 60\n",
    "            # transformacion de set a diccionario \n",
    "            news_dict = list(news_dict)\n",
    "            listResultsLinks.append(news_dict[0])\n",
    "            #news_dict = news_dict[0]\n",
    "        except:\n",
    "            pass\n",
    "    return listResultsLinks\n"
   ]
  },
  {
   "cell_type": "code",
   "execution_count": 20,
   "id": "82c31817-d720-458d-a46e-8fe594b66ec9",
   "metadata": {
    "tags": [],
    "vscode": {
     "languageId": "powershell"
    }
   },
   "outputs": [],
   "source": [
    "links = getLinks(result)"
   ]
  },
  {
   "cell_type": "code",
   "execution_count": 89,
   "id": "68ef1868-a4bf-4643-877d-180744bf01b5",
   "metadata": {
    "tags": [],
    "vscode": {
     "languageId": "powershell"
    }
   },
   "outputs": [],
   "source": [
    "listNoconf=['proceso']\n",
    "listConf=['']\n",
    "def getNewsDetails(links, listNoconf):\n",
    "    classifier = pipeline('sentiment-analysis', \n",
    "                      model=\"nlptown/bert-base-multilingual-uncased-sentiment\")\n",
    "    results = []\n",
    "    details = []\n",
    "    links = links[:15]\n",
    "    for link in links:  \n",
    "        results = []\n",
    "        detail = []\n",
    "        try:\n",
    "            url = link\n",
    "            article = Article(url)\n",
    "            article.download()\n",
    "            article.parse()\n",
    "            detail.append(article.title)\n",
    "            detail.append(article.authors)\n",
    "            detail.append(article.canonical_link)\n",
    "            detail.append(article.meta_description)\n",
    "            detail.append(article.text)\n",
    "            result = classifier(article.meta_description)\n",
    "            detail.append(result[0]['label'].split()[0])\n",
    "            result = classifier(article.title)\n",
    "            detail.append(result[0]['label'].split()[0])\n",
    "            # el modelo tien capacidad de hasta 512 palabras por eso lo freno antes\n",
    "            result = classifier(article.text[:500])\n",
    "            detail.append(result[0]['label'].split()[0])\n",
    "            detail.append(len(article.title) > 1)\n",
    "            detail.append(article.canonical_link.split('.')[1])\n",
    "            detail.append(len(article.text))\n",
    "\n",
    "            results.append( 1 if int(result[0]['label'].split()[0]) < 2 else 0 ) # 1 red flag\n",
    "            result = classifier(article.title)\n",
    "            results.append( 1 if int(result[0]['label'].split()[0]) < 2 else 0) # 1 red flag\n",
    "            # el modelo tien capacidad de hasta 512 palabras por eso lo freno antes\n",
    "            result = classifier(article.text[:500])\n",
    "            results.append(1 if int(result[0]['label'].split()[0]) < 2 else 0) # 1 red flag\n",
    "            results.append(1 if int(len(article.title)) <= 1 else 0) # 1 red flag\n",
    "            results.append(1 if article.canonical_link.split('.')[1] in listNoconf else 0)\n",
    "\n",
    "            results.append( 1 if len(article.text) < 100 else 0)\n",
    "            i = 0 \n",
    "            print(results)\n",
    "            for r in results:\n",
    "                i = i + r \n",
    "            if( i <= 1):\n",
    "                detail.append('articulo  confiable')\n",
    "            elif( i == 2):\n",
    "                detail.append('Articulo no tan confiable')\n",
    "            elif( i == 3):\n",
    "                detail.append('Articulo dudoso')\n",
    "            else:\n",
    "                detail.append('Articulo poco confiable')\n",
    "\n",
    "            details.append(detail)\n",
    "\n",
    "        except:\n",
    "            pass\n",
    "        \n",
    "    return details"
   ]
  },
  {
   "cell_type": "code",
   "execution_count": 90,
   "id": "d4e18dba-ecd3-4ae9-9255-7c940edba9b9",
   "metadata": {
    "tags": [],
    "vscode": {
     "languageId": "powershell"
    }
   },
   "outputs": [
    {
     "name": "stderr",
     "output_type": "stream",
     "text": [
      "Some layers from the model checkpoint at nlptown/bert-base-multilingual-uncased-sentiment were not used when initializing TFBertForSequenceClassification: ['dropout_37']\n",
      "- This IS expected if you are initializing TFBertForSequenceClassification from the checkpoint of a model trained on another task or with another architecture (e.g. initializing a BertForSequenceClassification model from a BertForPreTraining model).\n",
      "- This IS NOT expected if you are initializing TFBertForSequenceClassification from the checkpoint of a model that you expect to be exactly identical (initializing a BertForSequenceClassification model from a BertForSequenceClassification model).\n",
      "All the layers of TFBertForSequenceClassification were initialized from the model checkpoint at nlptown/bert-base-multilingual-uncased-sentiment.\n",
      "If your task is similar to the task the model of the checkpoint was trained on, you can already use TFBertForSequenceClassification for predictions without further training.\n"
     ]
    },
    {
     "name": "stdout",
     "output_type": "stream",
     "text": [
      "[1, 1, 1, 0, 1, 0]\n",
      "[1, 1, 1, 0, 0, 0]\n"
     ]
    }
   ],
   "source": [
    "r = getNewsDetails(links[:2], listNoconf)# los primeros 10 por ejemplo"
   ]
  },
  {
   "cell_type": "code",
   "execution_count": 91,
   "metadata": {
    "vscode": {
     "languageId": "powershell"
    }
   },
   "outputs": [
    {
     "data": {
      "text/plain": [
       "[['Xóchitl Gálvez acusa a Samuel García de desviar recursos e incumplir su palabra',\n",
       "  ['Luciano Campos Garza'],\n",
       "  'https://www.proceso.com.mx/nacional/2023/11/11/xochitl-galvez-acusa-samuel-garcia-de-desviar-recursos-incumplir-su-palabra-318347.html',\n",
       "  'De gira por Monterrey, Xóchitl Gálvez acusó a Samuel García de desviar recursos públicos para promocionarse y de incumplir su palabra de permanecer los seis años en la gubernatura.',\n",
       "  'MONTERREY, NL (proceso.com.mx).- La aspirante presidencial Xóchitl Gálvez se lanzó contra Samuel García, al que acusó de abandonar la gubernatura de Nuevo León para buscar la candidatura de Movimiento Ciudadano para la Presidencia, y desviar recursos públicos al hacer proselitismo a costa del erario.\\n\\nEn su visita a Monterrey para presentar su informe legislativo, la senadora panista, que abandera el Frente Amplio por México (PAN, PRI y PRD) se concentró en atacar al aún mandatario emecista, quien apenas ayer dijo que la había rebasado en preferencias ciudadanas de acuerdo con sus propios sondeos públicos.\\n\\n“Los mexicanos tendrán que saber si quieren a una persona que usa recursos públicos para promocionarse. Hemos visto la cantidad de dinero que le mete al Facebook, del dinero público de Nuevo León, como si el estado no tuviera problemas, zonas marginadas que requieren los recursos públicos”.\\n\\n“Yo no estaría de acuerdo (que haga precampaña como gobernador). Creo que es indebido desde el punto de vista legal, pero también desde el punto de vista ético. Creo que los neolonenses sí le pueden decir que no manche, que no se gaste la lana del pueblo”, dijo en conferencia de prensa.\\n\\nDijo que los abogados del Frente analizarán si emprenden acciones legales por estas conductas.\\n\\nEn la andanada de reclamos que lanzó a García Sepúlveda, Gálvez Ruiz consideró lamentable, para Nuevo León, que el mandatario incumpla sus compromisos con el pueblo y con la clase política, pues así como dijo que permanecería seis años, a los diputados también les ha fallado al desdeñar acuerdos.\\n\\n“Es lamentable lo que está viviendo Nuevo León, lamentable que alguien busque un cargo y cuando tiene la oportunidad de servir desde ese cargo, de transformar y hacer realidad lo que prometió. Yo lo escuche desde el senado no una, veinte veces criticar y agredir al Bronco (exgobernador Jaime Rodríguez), que no tenía palabra, que usaba recursos públicos para promoverse, y al final está haciendo exactamente lo mismo”.\\n\\n“Escuchando a los presidentes de los partidos, ha habido varios intentos de acuerdos. En la mesa ha dado su palabra de temas relacionados con el presupuesto, con el nombramiento del Fiscal del estado y se retira la palabra, no le gusta cumplirla. Lástima que sea de Nuevo León, porque acá los norteños tienen fama de ser gente de palabra”, dijo.\\n\\nXóchitl reveló que tenía la intención de llegar desde la noche del viernes a la entidad para pernoctar en la casa de una familia y vivir la problemática de la falta de agua, pero como llegó de madrugada, sería hasta este sábado cuando haría la visita.',\n",
       "  '1',\n",
       "  '1',\n",
       "  '1',\n",
       "  True,\n",
       "  'proceso',\n",
       "  2611,\n",
       "  'Articulo poco confiable'],\n",
       " ['Arremete Samuel García contra Gálvez y Sheinbaum',\n",
       "  ['Daniel Reyes'],\n",
       "  'https://www.reforma.com/arremete-samuel-garcia-contra-galvez-y-sheinbaum/ar2709218',\n",
       "  \"Samuel García arremetió contra Claudia Sheinbaum y Xóchitl Gálvez, que están en NL; llevan meses de campañas ilegales 'y no levantan', dijo.\",\n",
       "  'NACIONAL\\n\\nArremete Samuel García contra Gálvez y Sheinbaum\\n\\n02 MIN 30 SEG Daniel Reyes Monterrey, México (11 noviembre 2023) .-14:33 hrs\\n\\nSamuel García adelantó la reapertura de la Línea 2 del Metro, a pesar de que continúan trabajos en la parte inferior. Crédito: Daniel Reyes\\n\\nEl Gobernador Samuel García adelantó la reapertura del tramo en restauración de la Línea 2 de Metrorrey y aprovechó para tirarle a sus futuras adversarias por la Presidencia que hoy están en Nuevo León.',\n",
       "  '1',\n",
       "  '1',\n",
       "  '1',\n",
       "  True,\n",
       "  'reforma',\n",
       "  481,\n",
       "  'Articulo dudoso']]"
      ]
     },
     "execution_count": 91,
     "metadata": {},
     "output_type": "execute_result"
    }
   ],
   "source": [
    "r"
   ]
  },
  {
   "cell_type": "code",
   "execution_count": 88,
   "id": "e5beb3a0-5c85-47fe-89b7-e36c6a8f7602",
   "metadata": {
    "tags": [],
    "vscode": {
     "languageId": "powershell"
    }
   },
   "outputs": [
    {
     "data": {
      "text/plain": [
       "['Xóchitl Gálvez acusa a Samuel García de desviar recursos e incumplir su palabra',\n",
       " ['Luciano Campos Garza'],\n",
       " 'https://www.proceso.com.mx/nacional/2023/11/11/xochitl-galvez-acusa-samuel-garcia-de-desviar-recursos-incumplir-su-palabra-318347.html',\n",
       " 'De gira por Monterrey, Xóchitl Gálvez acusó a Samuel García de desviar recursos públicos para promocionarse y de incumplir su palabra de permanecer los seis años en la gubernatura.',\n",
       " 'MONTERREY, NL (proceso.com.mx).- La aspirante presidencial Xóchitl Gálvez se lanzó contra Samuel García, al que acusó de abandonar la gubernatura de Nuevo León para buscar la candidatura de Movimiento Ciudadano para la Presidencia, y desviar recursos públicos al hacer proselitismo a costa del erario.\\n\\nEn su visita a Monterrey para presentar su informe legislativo, la senadora panista, que abandera el Frente Amplio por México (PAN, PRI y PRD) se concentró en atacar al aún mandatario emecista, quien apenas ayer dijo que la había rebasado en preferencias ciudadanas de acuerdo con sus propios sondeos públicos.\\n\\n“Los mexicanos tendrán que saber si quieren a una persona que usa recursos públicos para promocionarse. Hemos visto la cantidad de dinero que le mete al Facebook, del dinero público de Nuevo León, como si el estado no tuviera problemas, zonas marginadas que requieren los recursos públicos”.\\n\\n“Yo no estaría de acuerdo (que haga precampaña como gobernador). Creo que es indebido desde el punto de vista legal, pero también desde el punto de vista ético. Creo que los neolonenses sí le pueden decir que no manche, que no se gaste la lana del pueblo”, dijo en conferencia de prensa.\\n\\nDijo que los abogados del Frente analizarán si emprenden acciones legales por estas conductas.\\n\\nEn la andanada de reclamos que lanzó a García Sepúlveda, Gálvez Ruiz consideró lamentable, para Nuevo León, que el mandatario incumpla sus compromisos con el pueblo y con la clase política, pues así como dijo que permanecería seis años, a los diputados también les ha fallado al desdeñar acuerdos.\\n\\n“Es lamentable lo que está viviendo Nuevo León, lamentable que alguien busque un cargo y cuando tiene la oportunidad de servir desde ese cargo, de transformar y hacer realidad lo que prometió. Yo lo escuche desde el senado no una, veinte veces criticar y agredir al Bronco (exgobernador Jaime Rodríguez), que no tenía palabra, que usaba recursos públicos para promoverse, y al final está haciendo exactamente lo mismo”.\\n\\n“Escuchando a los presidentes de los partidos, ha habido varios intentos de acuerdos. En la mesa ha dado su palabra de temas relacionados con el presupuesto, con el nombramiento del Fiscal del estado y se retira la palabra, no le gusta cumplirla. Lástima que sea de Nuevo León, porque acá los norteños tienen fama de ser gente de palabra”, dijo.\\n\\nXóchitl reveló que tenía la intención de llegar desde la noche del viernes a la entidad para pernoctar en la casa de una familia y vivir la problemática de la falta de agua, pero como llegó de madrugada, sería hasta este sábado cuando haría la visita.',\n",
       " '1',\n",
       " '1',\n",
       " '1',\n",
       " True,\n",
       " 'proceso',\n",
       " 2611]"
      ]
     },
     "execution_count": 88,
     "metadata": {},
     "output_type": "execute_result"
    }
   ],
   "source": [
    "#1 negativo\n",
    "#5 positivo \n",
    "r[0]"
   ]
  },
  {
   "cell_type": "code",
   "execution_count": 44,
   "id": "3dc22662-2b52-4a39-b027-6699e721877b",
   "metadata": {
    "tags": [],
    "vscode": {
     "languageId": "powershell"
    }
   },
   "outputs": [
    {
     "data": {
      "text/plain": [
       "['Arremete Samuel García contra Gálvez y Sheinbaum',\n",
       " ['Daniel Reyes'],\n",
       " 'https://www.reforma.com/arremete-samuel-garcia-contra-galvez-y-sheinbaum/ar2709218',\n",
       " \"Samuel García arremetió contra Claudia Sheinbaum y Xóchitl Gálvez, que están en NL; llevan meses de campañas ilegales 'y no levantan', dijo.\",\n",
       " 'NACIONAL\\n\\nArremete Samuel García contra Gálvez y Sheinbaum\\n\\n02 MIN 30 SEG Daniel Reyes Monterrey, México (11 noviembre 2023) .-14:33 hrs\\n\\nSamuel García adelantó la reapertura de la Línea 2 del Metro, a pesar de que continúan trabajos en la parte inferior. Crédito: Daniel Reyes\\n\\nEl Gobernador Samuel García adelantó la reapertura del tramo en restauración de la Línea 2 de Metrorrey y aprovechó para tirarle a sus futuras adversarias por la Presidencia que hoy están en Nuevo León.',\n",
       " '1',\n",
       " '1',\n",
       " '1']"
      ]
     },
     "execution_count": 44,
     "metadata": {},
     "output_type": "execute_result"
    }
   ],
   "source": [
    "r[1]"
   ]
  },
  {
   "cell_type": "code",
   "execution_count": 25,
   "id": "36238f3a-54cf-40b5-a13b-91251fe41341",
   "metadata": {
    "vscode": {
     "languageId": "powershell"
    }
   },
   "outputs": [
    {
     "name": "stderr",
     "output_type": "stream",
     "text": [
      "Some layers from the model checkpoint at nlptown/bert-base-multilingual-uncased-sentiment were not used when initializing TFBertForSequenceClassification: ['dropout_37']\n",
      "- This IS expected if you are initializing TFBertForSequenceClassification from the checkpoint of a model trained on another task or with another architecture (e.g. initializing a BertForSequenceClassification model from a BertForPreTraining model).\n",
      "- This IS NOT expected if you are initializing TFBertForSequenceClassification from the checkpoint of a model that you expect to be exactly identical (initializing a BertForSequenceClassification model from a BertForSequenceClassification model).\n",
      "All the layers of TFBertForSequenceClassification were initialized from the model checkpoint at nlptown/bert-base-multilingual-uncased-sentiment.\n",
      "If your task is similar to the task the model of the checkpoint was trained on, you can already use TFBertForSequenceClassification for predictions without further training.\n"
     ]
    }
   ],
   "source": [
    "classifier = pipeline('sentiment-analysis', \n",
    "                      model=\"nlptown/bert-base-multilingual-uncased-sentiment\")"
   ]
  }
 ],
 "metadata": {
  "kernelspec": {
   "display_name": "Python 3",
   "language": "python",
   "name": "python3"
  },
  "language_info": {
   "codemirror_mode": {
    "name": "ipython",
    "version": 3
   },
   "file_extension": ".py",
   "mimetype": "text/x-python",
   "name": "python",
   "nbconvert_exporter": "python",
   "pygments_lexer": "ipython3",
   "version": "3.11.4"
  }
 },
 "nbformat": 4,
 "nbformat_minor": 5
}
